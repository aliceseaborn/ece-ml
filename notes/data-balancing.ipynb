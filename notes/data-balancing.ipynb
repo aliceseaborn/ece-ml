{
 "cells": [
  {
   "cell_type": "markdown",
   "metadata": {},
   "source": [
    "# Data Balancing\n",
    "---\n",
    "\n",
    "Sometimes the data has many more instances for one classification than another. For instance, within the heart disease data there are many more instances which exhibit no heart disease compared to those without heart disease. As a result, when we train an algorithm to learn from this data it will be biased towards the classifications whose instances are more numerous. This is called a data imbalance, it means that there is a bias in the data towards one tendency than another based not on the correlations which inspired the data but based on the commonality of some occurances or demographics over another.\n",
    "\n",
    "> Imbalanced data typically refers to a problem with classification problems where the classes are not represented equally <br>\n",
    "\\- [Machine Learning Mastery](https://machinelearningmastery.com/tactics-to-combat-imbalanced-classes-in-your-machine-learning-dataset/)\n",
    "\n",
    "To deal with imbalanced data, here are some techniques we can try."
   ]
  },
  {
   "cell_type": "markdown",
   "metadata": {},
   "source": [
    "### Under-sampling\n",
    "Here we randomly drop instances of the other features until we are left with equal numbers of each feature.\n",
    "\n",
    "1. Count the number of examples in each class\n",
    "2. Select the smallest class with only $N$ samples\n",
    "3. Randomly sample $N$ examples from each class and put them into a new dataset"
   ]
  },
  {
   "cell_type": "code",
   "execution_count": 1,
   "metadata": {},
   "outputs": [
    {
     "data": {
      "text/html": [
       "<div>\n",
       "<style scoped>\n",
       "    .dataframe tbody tr th:only-of-type {\n",
       "        vertical-align: middle;\n",
       "    }\n",
       "\n",
       "    .dataframe tbody tr th {\n",
       "        vertical-align: top;\n",
       "    }\n",
       "\n",
       "    .dataframe thead th {\n",
       "        text-align: right;\n",
       "    }\n",
       "</style>\n",
       "<table border=\"1\" class=\"dataframe\">\n",
       "  <thead>\n",
       "    <tr style=\"text-align: right;\">\n",
       "      <th></th>\n",
       "      <th>age</th>\n",
       "      <th>sex</th>\n",
       "      <th>cp</th>\n",
       "      <th>trestbps</th>\n",
       "      <th>chol</th>\n",
       "      <th>fbs</th>\n",
       "      <th>restecg</th>\n",
       "      <th>thalach</th>\n",
       "      <th>exang</th>\n",
       "      <th>oldpeak</th>\n",
       "      <th>slope</th>\n",
       "      <th>ca</th>\n",
       "      <th>thal</th>\n",
       "      <th>disease</th>\n",
       "    </tr>\n",
       "  </thead>\n",
       "  <tbody>\n",
       "    <tr>\n",
       "      <th>0</th>\n",
       "      <td>63</td>\n",
       "      <td>1</td>\n",
       "      <td>1</td>\n",
       "      <td>145</td>\n",
       "      <td>233</td>\n",
       "      <td>1</td>\n",
       "      <td>2</td>\n",
       "      <td>150</td>\n",
       "      <td>0</td>\n",
       "      <td>2.3</td>\n",
       "      <td>3</td>\n",
       "      <td>0</td>\n",
       "      <td>6</td>\n",
       "      <td>0</td>\n",
       "    </tr>\n",
       "    <tr>\n",
       "      <th>1</th>\n",
       "      <td>67</td>\n",
       "      <td>1</td>\n",
       "      <td>4</td>\n",
       "      <td>160</td>\n",
       "      <td>286</td>\n",
       "      <td>0</td>\n",
       "      <td>2</td>\n",
       "      <td>108</td>\n",
       "      <td>1</td>\n",
       "      <td>1.5</td>\n",
       "      <td>2</td>\n",
       "      <td>3</td>\n",
       "      <td>3</td>\n",
       "      <td>2</td>\n",
       "    </tr>\n",
       "    <tr>\n",
       "      <th>2</th>\n",
       "      <td>67</td>\n",
       "      <td>1</td>\n",
       "      <td>4</td>\n",
       "      <td>120</td>\n",
       "      <td>229</td>\n",
       "      <td>0</td>\n",
       "      <td>2</td>\n",
       "      <td>129</td>\n",
       "      <td>1</td>\n",
       "      <td>2.6</td>\n",
       "      <td>2</td>\n",
       "      <td>2</td>\n",
       "      <td>7</td>\n",
       "      <td>1</td>\n",
       "    </tr>\n",
       "    <tr>\n",
       "      <th>3</th>\n",
       "      <td>37</td>\n",
       "      <td>1</td>\n",
       "      <td>3</td>\n",
       "      <td>130</td>\n",
       "      <td>250</td>\n",
       "      <td>0</td>\n",
       "      <td>0</td>\n",
       "      <td>187</td>\n",
       "      <td>0</td>\n",
       "      <td>3.5</td>\n",
       "      <td>3</td>\n",
       "      <td>0</td>\n",
       "      <td>3</td>\n",
       "      <td>0</td>\n",
       "    </tr>\n",
       "    <tr>\n",
       "      <th>4</th>\n",
       "      <td>41</td>\n",
       "      <td>0</td>\n",
       "      <td>2</td>\n",
       "      <td>130</td>\n",
       "      <td>204</td>\n",
       "      <td>0</td>\n",
       "      <td>2</td>\n",
       "      <td>172</td>\n",
       "      <td>0</td>\n",
       "      <td>1.4</td>\n",
       "      <td>1</td>\n",
       "      <td>0</td>\n",
       "      <td>3</td>\n",
       "      <td>0</td>\n",
       "    </tr>\n",
       "  </tbody>\n",
       "</table>\n",
       "</div>"
      ],
      "text/plain": [
       "   age  sex  cp  trestbps  chol  fbs  restecg  thalach  exang  oldpeak  slope  \\\n",
       "0   63    1   1       145   233    1        2      150      0      2.3      3   \n",
       "1   67    1   4       160   286    0        2      108      1      1.5      2   \n",
       "2   67    1   4       120   229    0        2      129      1      2.6      2   \n",
       "3   37    1   3       130   250    0        0      187      0      3.5      3   \n",
       "4   41    0   2       130   204    0        2      172      0      1.4      1   \n",
       "\n",
       "  ca thal  disease  \n",
       "0  0    6        0  \n",
       "1  3    3        2  \n",
       "2  2    7        1  \n",
       "3  0    3        0  \n",
       "4  0    3        0  "
      ]
     },
     "execution_count": 1,
     "metadata": {},
     "output_type": "execute_result"
    }
   ],
   "source": [
    "# -------------------- CONFIGURE ENVIRONMENT -------------------- #\n",
    "\n",
    "%reset -f\n",
    "\n",
    "# Ignore warnings\n",
    "import warnings\n",
    "warnings.filterwarnings('ignore')\n",
    "\n",
    "# Import libraries\n",
    "import pandas as pd\n",
    "import numpy as np\n",
    "from pathlib import Path\n",
    "\n",
    "# Define subdirectory\n",
    "data_path = Path('../data')\n",
    "\n",
    "# Import the data from subdirectory\n",
    "data = pd.read_csv(data_path / 'cleveland-heart-disease.csv')\n",
    "\n",
    "# Look at first 5 instances of the data\n",
    "data.head(5)"
   ]
  },
  {
   "cell_type": "code",
   "execution_count": 2,
   "metadata": {},
   "outputs": [
    {
     "data": {
      "text/plain": [
       "array([0, 2, 1, 3, 4])"
      ]
     },
     "execution_count": 2,
     "metadata": {},
     "output_type": "execute_result"
    }
   ],
   "source": [
    "data.disease.unique()"
   ]
  },
  {
   "cell_type": "markdown",
   "metadata": {},
   "source": [
    "#### Count the number of examples in each class"
   ]
  },
  {
   "cell_type": "code",
   "execution_count": 3,
   "metadata": {},
   "outputs": [
    {
     "data": {
      "image/png": "[encoded data removed]",
      "text/plain": [
       "<Figure size 432x288 with 1 Axes>"
      ]
     },
     "metadata": {
      "needs_background": "light"
     },
     "output_type": "display_data"
    }
   ],
   "source": [
    "# -------------------- VISUALIZE CLASS DISPARITY -------------------- #\n",
    "\n",
    "import matplotlib.pyplot as plt\n",
    "\n",
    "# Construct finite bin labels\n",
    "bins = np.arange(6) - 0.5\n",
    "\n",
    "# Plot histogram of the bins\n",
    "plt.hist(data.disease, bins)\n",
    "plt.xticks(range(5))\n",
    "plt.xlim([-1, 5])\n",
    "plt.title('Prevalence of Disease Categories')\n",
    "plt.xlabel('Categories')\n",
    "plt.ylabel('Number of Instances')\n",
    "plt.show()"
   ]
  },
  {
   "cell_type": "code",
   "execution_count": 4,
   "metadata": {},
   "outputs": [
    {
     "name": "stdout",
     "output_type": "stream",
     "text": [
      "Original class frequencies: Counter({0: 164, 1: 55, 2: 36, 3: 35, 4: 13})\n"
     ]
    }
   ],
   "source": [
    "from collections import Counter\n",
    "print('Original class frequencies: %s' % Counter(data.disease))"
   ]
  },
  {
   "cell_type": "markdown",
   "metadata": {},
   "source": [
    "#### Select the smallest class with only $N$ samples\n",
    "\n",
    "In this case it looks like we ought to select the $N = 13$, as that is the smallest class, but we run into a problem: if we select this class we will not have enough samples for our MLA. We will discuss a solution to this in our next method. ([source](https://www.kaggle.com/residentmario/undersampling-and-oversampling-imbalanced-data))"
   ]
  },
  {
   "cell_type": "code",
   "execution_count": 5,
   "metadata": {},
   "outputs": [
    {
     "name": "stdout",
     "output_type": "stream",
     "text": [
      "Original class frequencies: Counter({0: 164, 1: 55, 2: 36, 3: 35, 4: 13}) \t\n",
      "Resampled class frequencies: Counter({0: 13, 1: 13, 2: 13, 3: 13, 4: 13}) \n",
      "\n"
     ]
    }
   ],
   "source": [
    "# -------------------- IMPUTE MISSING VALUES -------------------- #\n",
    "\n",
    "# Replace '?' with NaN\n",
    "data = data.replace('?', np.NaN)\n",
    "\n",
    "# Import the missing indicator class\n",
    "from sklearn.impute import MissingIndicator\n",
    "from sklearn.impute import SimpleImputer\n",
    "\n",
    "# Find missing values using truth table\n",
    "ind = MissingIndicator(missing_values = np.nan)\n",
    "MissingValues = ind.fit_transform(data)\n",
    "\n",
    "# Get indices of missing values\n",
    "ind_ca = np.where(MissingValues[...,0] == True)\n",
    "ind_thal = np.where(MissingValues[...,1] == True)\n",
    "\n",
    "# Set the missing entries to zero\n",
    "data.ca[ind_ca[0]] = 0\n",
    "data.thal[ind_thal[0]] = 0\n",
    "\n",
    "# Set the missing entries to the mean of the feature\n",
    "data.ca[ind_ca[0]] = data.ca.astype(int).mean()\n",
    "data.thal[ind_thal[0]] = data.thal.astype(int).mean()\n",
    "\n",
    "# -------------------- PERFORM UNDER-SAMPLING -------------------- #\n",
    "\n",
    "# Find original count\n",
    "from collections import Counter\n",
    "print('Original class frequencies: %s \\t' % Counter(data.disease))\n",
    "\n",
    "# Import the random under sampler\n",
    "from imblearn.under_sampling import RandomUnderSampler\n",
    "\n",
    "# Instantiate RUS and train on algorithm\n",
    "rus = RandomUnderSampler(random_state=0)\n",
    "rus.fit(data.iloc[:,0:14], data.disease)\n",
    "\n",
    "# Create newly sampled data sets\n",
    "X, y = rus.fit_sample(data.iloc[:,0:14], data.disease)\n",
    "\n",
    "# Measure new instance frequencies\n",
    "print('Resampled class frequencies: %s \\n' % Counter(y))"
   ]
  },
  {
   "cell_type": "markdown",
   "metadata": {},
   "source": [
    "### Over-sampling\n",
    "Here we randomly duplicate instances of a class until we are left with a balanced dataset.\n",
    "\n",
    "1. Count the number of examples in each class\n",
    "2. Select the largest class with $N$ samples\n",
    "3. Randomly duplicate $N$ examples from each class with fewer instances and put them into a new dataset"
   ]
  },
  {
   "cell_type": "code",
   "execution_count": 6,
   "metadata": {},
   "outputs": [
    {
     "name": "stdout",
     "output_type": "stream",
     "text": [
      "Original class frequencies: Counter({0: 164, 1: 55, 2: 36, 3: 35, 4: 13})\n",
      "Resampled class frequencies: Counter({0: 164, 2: 164, 1: 164, 3: 164, 4: 164})\n"
     ]
    }
   ],
   "source": [
    "# -------------------- CONFIGURE ENVIRONMENT -------------------- #\n",
    "\n",
    "%reset -f\n",
    "\n",
    "# Ignore warnings\n",
    "import warnings\n",
    "warnings.filterwarnings('ignore')\n",
    "\n",
    "# Import libraries\n",
    "import pandas as pd\n",
    "import numpy as np\n",
    "from collections import Counter\n",
    "from pathlib import Path\n",
    "\n",
    "# Import the random over sampler\n",
    "from imblearn.over_sampling import RandomOverSampler\n",
    "\n",
    "# Define subdirectory\n",
    "data_path = Path('../data')\n",
    "\n",
    "# Import the data from subdirectory\n",
    "data = pd.read_csv(data_path / 'cleveland-heart-disease.csv')\n",
    "\n",
    "# -------------------- IMPUTING MISSING VALUES -------------------- #\n",
    "\n",
    "# Replace '?' with NaN\n",
    "data = data.replace('?', np.NaN)\n",
    "\n",
    "# Import the missing indicator class\n",
    "from sklearn.impute import MissingIndicator\n",
    "from sklearn.impute import SimpleImputer\n",
    "\n",
    "# Find missing values using truth table\n",
    "ind = MissingIndicator(missing_values = np.nan)\n",
    "MissingValues = ind.fit_transform(data)\n",
    "\n",
    "# Get indices of missing values\n",
    "ind_ca = np.where(MissingValues[...,0] == True)\n",
    "ind_thal = np.where(MissingValues[...,1] == True)\n",
    "\n",
    "# Set the missing entries to zero\n",
    "data.ca[ind_ca[0]] = 0\n",
    "data.thal[ind_thal[0]] = 0\n",
    "\n",
    "# Set the missing entries to the mean of the feature\n",
    "data.ca[ind_ca[0]] = data.ca.astype(int).mean()\n",
    "data.thal[ind_thal[0]] = data.thal.astype(int).mean()\n",
    "\n",
    "# -------------------- PERFORM OVER-SAMPLING -------------------- #\n",
    "\n",
    "# Find original count\n",
    "print('Original class frequencies: %s' % Counter(data.disease))\n",
    "\n",
    "# Fit and resample data\n",
    "ros = RandomOverSampler(random_state=0)\n",
    "ros.fit(data.iloc[:,0:14], data.disease)\n",
    "X, y = ros.fit_sample(data.iloc[:,0:14], data.disease)\n",
    "\n",
    "# Measure new instance frequencies\n",
    "print('Resampled class frequencies: %s' % Counter(y))"
   ]
  },
  {
   "cell_type": "markdown",
   "metadata": {},
   "source": [
    "As we can see, these methods allow us to remove the biases which may occur when gathering data but only by either ommitting data samples or inflating occurances which were not as common originally.\n",
    "\n",
    "### Synthetic Minority Over-sampling Technique (SMOTE)\n",
    "Without duplicating nor dropping, we can ramdomly copy individual features for a given class to create new instances which have only a statistical basis in reality as they were never measured in the data gathering phase. In many ways the SMOTE method is a combination of the previous two methods, under and over sampling. Here we will consider *SMOTE Edited Nearest Neighbors (SMOTE-ENN)*."
   ]
  },
  {
   "cell_type": "code",
   "execution_count": 7,
   "metadata": {},
   "outputs": [
    {
     "name": "stdout",
     "output_type": "stream",
     "text": [
      "Original class frequencies: Counter({0: 164, 1: 55, 2: 36, 3: 35, 4: 13})\n",
      "Resampled dataset shape Counter({4: 128, 3: 101, 2: 94, 1: 76, 0: 36})\n"
     ]
    }
   ],
   "source": [
    "# -------------------- CONFIGURE ENVIRONMENT -------------------- #\n",
    "\n",
    "%reset -f\n",
    "\n",
    "# Ignore warnings\n",
    "import warnings\n",
    "warnings.filterwarnings('ignore')\n",
    "\n",
    "#Import libraries\n",
    "from collections import Counter\n",
    "from imblearn.combine import SMOTEENN\n",
    "import pandas as pd\n",
    "import numpy as np\n",
    "from pathlib import Path\n",
    "\n",
    "# Define subdirectory\n",
    "data_path = Path('../data')\n",
    "\n",
    "# Import the data from subdirectory\n",
    "data = pd.read_csv(data_path / 'cleveland-heart-disease.csv')\n",
    "\n",
    "# -------------------- IMPUTE MISSING VALUES -------------------- #\n",
    "\n",
    "# Replace '?' with NaN\n",
    "data = data.replace('?', np.NaN)\n",
    "\n",
    "# Import the missing indicator class\n",
    "from sklearn.impute import MissingIndicator\n",
    "from sklearn.impute import SimpleImputer\n",
    "\n",
    "# Find missing values using truth table\n",
    "ind = MissingIndicator(missing_values = np.nan)\n",
    "MissingValues = ind.fit_transform(data)\n",
    "\n",
    "# Get indices of missing values\n",
    "ind_ca = np.where(MissingValues[...,0] == True)\n",
    "ind_thal = np.where(MissingValues[...,1] == True)\n",
    "\n",
    "# Set the missing entries to zero\n",
    "data.ca[ind_ca[0]] = 0\n",
    "data.thal[ind_thal[0]] = 0\n",
    "\n",
    "# Set the missing entries to the mean of the feature\n",
    "data.ca[ind_ca[0]] = data.ca.astype(int).mean()\n",
    "data.thal[ind_thal[0]] = data.thal.astype(int).mean()\n",
    "\n",
    "# -------------------- PERFORM SMOTE-ENN SAMPLING -------------------- #\n",
    "\n",
    "# Print original class frequencies\n",
    "print('Original class frequencies: %s' % Counter(data.disease))\n",
    "\n",
    "# Fit and resample data\n",
    "sme = SMOTEENN(random_state=1)\n",
    "X, y = sme.fit_sample(data.iloc[:,0:14], data.disease)\n",
    "\n",
    "# Print new dimensions\n",
    "print('Resampled dataset shape %s' % Counter(y))\n"
   ]
  },
  {
   "cell_type": "markdown",
   "metadata": {},
   "source": [
    "I'll be honest, I don't fully understand the intricate details of `SMOTEENN` and would prefer to stick with the other two options which I understand more intimately."
   ]
  },
  {
   "cell_type": "markdown",
   "metadata": {},
   "source": [
    "*Seaborn. Feb 06. 2019.*"
   ]
  }
 ],
 "metadata": {
  "kernelspec": {
   "display_name": "Python 3 (ipykernel)",
   "language": "python",
   "name": "python3"
  },
  "language_info": {
   "codemirror_mode": {
    "name": "ipython",
    "version": 3
   },
   "file_extension": ".py",
   "mimetype": "text/x-python",
   "name": "python",
   "nbconvert_exporter": "python",
   "pygments_lexer": "ipython3",
   "version": "3.9.6"
  },
  "toc-autonumbering": false
 },
 "nbformat": 4,
 "nbformat_minor": 4
}
